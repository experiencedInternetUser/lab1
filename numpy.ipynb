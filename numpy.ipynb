{
  "cells": [
    {
      "cell_type": "markdown",
      "metadata": {
        "id": "vC84e9kzyxPy"
      },
      "source": [
        "<h1>Импорт библиотек"
      ]
    },
    {
      "cell_type": "code",
      "execution_count": 864,
      "metadata": {
        "id": "cgKeNegmQG5S"
      },
      "outputs": [],
      "source": [
        "import numpy as np\n",
        "import matplotlib.pyplot as plt\n",
        "import random"
      ]
    },
    {
      "cell_type": "markdown",
      "metadata": {
        "id": "qFM9uVU2x4Ls"
      },
      "source": [
        "<h1>Задача 1.</h1> Дан набор из $p$ матриц размерностью $(n, n)$ и $p$ векторов размерностью $(n, 1)$, найти сумму произведений матриц на векторы. Написать тесты для кода"
      ]
    },
    {
      "cell_type": "code",
      "execution_count": 865,
      "metadata": {
        "id": "IAbUvEiYyWFF"
      },
      "outputs": [
        {
          "name": "stdout",
          "output_type": "stream",
          "text": [
            "Test №1 Successful\n",
            "Test №2 Successful\n",
            "Test №3 Successful\n"
          ]
        }
      ],
      "source": [
        "def sum_prod(X, V):\n",
        "    '''\n",
        "    X - матрицы (n, n)\n",
        "    V - векторы (n, 1)\n",
        "    Гарантируется, что len(X) == len(V)\n",
        "    '''\n",
        "    sum = 0\n",
        "    for i in range(len(X)):  \n",
        "        sum += np.dot(X[i], V[i])  \n",
        "    \n",
        "    return sum\n",
        "\n",
        "def test():\n",
        "    x = [np.array([[0, 1], [2, 3]])]\n",
        "    v = [np.array([[1], [1]])]\n",
        "    funcResult = sum_prod(x, v)\n",
        "    trueResult = np.array([[1], [5]])\n",
        "    assert np.array_equal(funcResult, trueResult), f\"Test №1 Failed  Your result: \\n {str(funcResult)[1:-1]}\"\n",
        "    print(\"Test №1 Successful\")\n",
        "\n",
        "    x = [np.array([[10, 20], [30, 40]]), np.array([[50, 60], [70, 80]])]\n",
        "    v = [np.array([[0], [0]]), np.array([[0], [0]])]\n",
        "    funcResult = sum_prod(x, v)\n",
        "    trueResult = np.array([[0], [0]])\n",
        "    assert np.array_equal(funcResult, trueResult), f\"Test №2 Failed  Your result: \\n {str(funcResult)[1:-1]}\"\n",
        "    print(\"Test №2 Successful\")\n",
        "\n",
        "    x = [np.array([[10, 20], [30, 40]]), np.array([[50, 60], [70, 80]])]\n",
        "    v = [np.array([[1], [1]]), np.array([[1], [1]])]\n",
        "    funcResult = sum_prod(x, v)\n",
        "    trueResult = np.array([[140], [220]])\n",
        "    assert np.array_equal(funcResult, trueResult), f\"Test №3 Failed  Your result: \\n {str(funcResult)[1:-1]}\"\n",
        "    print(\"Test №3 Successful\")\n",
        "\n",
        "test()"
      ]
    },
    {
      "cell_type": "markdown",
      "metadata": {
        "id": "TKwPG4fIy2w4"
      },
      "source": [
        "<h1>Задача 2.</h1> Дана матрица M, напишите функцию, которая бинаризует матрицу по некоторому threshold (то есть, все значения большие threshold становятся равными 1, иначе 0). Напишите тесты для кода"
      ]
    },
    {
      "cell_type": "code",
      "execution_count": 866,
      "metadata": {
        "id": "KQDNMgsjRNH7"
      },
      "outputs": [
        {
          "name": "stdout",
          "output_type": "stream",
          "text": [
            "Test №1 Successful\n",
            "Test №2 Successful\n",
            "Test №3 Successful\n"
          ]
        }
      ],
      "source": [
        "def binarize(M : np.array, threshold=0.5) -> np.array:\n",
        "    return np.where(M >= threshold, 1, 0)\n",
        "\n",
        "def tests() -> None:\n",
        "    funcResult = binarize(np.array([[0.1, 0], [1, 100]]))\n",
        "    trueResult = np.array([[0, 0], [1, 1]])\n",
        "    assert np.array_equal(funcResult, trueResult), f\"Test №1 Failed  Your result: \\n {str(funcResult)[1:-1]}\"\n",
        "    print(\"Test №1 Successful\")\n",
        "    \n",
        "    funcResult = binarize(np.array([[0.1, 0], [10, 100]]), 1000)\n",
        "    trueResult = np.array([[0, 0], [0, 0]])\n",
        "    assert np.array_equal(funcResult, trueResult), f\"Test №2 Failed, Your result: \\n {str(funcResult)[1:-1]}\"\n",
        "    print(\"Test №2 Successful\")\n",
        "\n",
        "    funcResult = binarize(np.array([[-10, 0], [0, 10]]))\n",
        "    trueResult = np.array([[0, 0], [0, 1]])\n",
        "    assert np.array_equal(funcResult, trueResult), f\"Test №3 Failed, Your result: \\n {str(funcResult)[1:-1]}\"\n",
        "    print(\"Test №3 Successful\")\n",
        "\n",
        "tests()"
      ]
    },
    {
      "cell_type": "markdown",
      "metadata": {
        "id": "IY5L-h-7zWhN"
      },
      "source": [
        "<h1>Задача 3.</h1> Напишите функцию, которая возвращает уникальные элементы из каждой строки матрицы. Напишите такую же функцию, но для столбцов. Напишите тесты для кода"
      ]
    },
    {
      "cell_type": "code",
      "execution_count": 867,
      "metadata": {
        "id": "-8dEZhR0SBC-"
      },
      "outputs": [
        {
          "name": "stdout",
          "output_type": "stream",
          "text": [
            "Test №1 Successful\n",
            "Test №2 Successful\n",
            "Test №3 Successful\n"
          ]
        }
      ],
      "source": [
        "def unique_rows(mat : list[list]):\n",
        "    uniqlist = []\n",
        "    for i in mat:\n",
        "        uniqlist.append(np.unique(i))\n",
        "    return uniqlist\n",
        "\n",
        "def unique_columns(mat):\n",
        "    a = mat.T\n",
        "    b = unique_rows(a).copy()\n",
        "    return b\n",
        "\n",
        "def tests() -> None:\n",
        "    funcResult = binarize(np.array([[0.1, 0], [1, 100]]))\n",
        "    trueResult = np.array([[0, 0], [1, 1]])\n",
        "    assert np.array_equal(funcResult, trueResult), f\"Test №1 Failed  Your result: \\n {str(funcResult)[1:-1]}\"\n",
        "    print(\"Test №1 Successful\")\n",
        "    \n",
        "    funcResult = binarize(np.array([[0.1, 0], [10, 100]]), 1000)\n",
        "    trueResult = np.array([[0, 0], [0, 0]])\n",
        "    assert np.array_equal(funcResult, trueResult), f\"Test №2 Failed, Your result: \\n {str(funcResult)[1:-1]}\"\n",
        "    print(\"Test №2 Successful\")\n",
        "\n",
        "    funcResult = binarize(np.array([[-10, 0], [0, 10]]))\n",
        "    trueResult = np.array([[0, 0], [0, 1]])\n",
        "    assert np.array_equal(funcResult, trueResult), f\"Test №3 Failed, Your result: \\n {str(funcResult)[1:-1]}\"\n",
        "    print(\"Test №3 Successful\")\n",
        "\n",
        "tests()"
      ]
    },
    {
      "cell_type": "markdown",
      "metadata": {
        "id": "roYAlo4Jz-lH"
      },
      "source": [
        "<h1>Задача 4.</h1> Напишите функцию, которая заполняет матрицу с размерами $(m, n)$ случайными числами, распределенными по нормальному закону. Затем считает мат. ожидание и дисперсию для каждого из столбцов и строк, а также строит для каждой строки и столбца гистограмму значений (использовать функцию hist из модуля matplotlib.plot)"
      ]
    },
    {
      "cell_type": "code",
      "execution_count": 868,
      "metadata": {
        "id": "nZK_71hMSQzv"
      },
      "outputs": [],
      "source": [
        "def foo_4():\n",
        "    pass"
      ]
    },
    {
      "cell_type": "markdown",
      "metadata": {
        "id": "BDyATNdM0dJ2"
      },
      "source": [
        "<h1>Задача 5.</h1> Напишите функцию, которая заполняет матрицу $(m, n)$ в шахматном порядке заданными числами $a$ и $b$. Напишите тесты для кода"
      ]
    },
    {
      "cell_type": "code",
      "execution_count": 869,
      "metadata": {
        "id": "RWNJYWQGecS6"
      },
      "outputs": [
        {
          "name": "stdout",
          "output_type": "stream",
          "text": [
            "Test №1 Successful\n",
            "Test №2 Successful\n",
            "Test №3 Successful\n",
            "Test №4 Successful\n"
          ]
        }
      ],
      "source": [
        "def chess(m, n, a, b):\n",
        "    matrix = []\n",
        "    for i in range(m):\n",
        "        row = []\n",
        "        for j in range(n):\n",
        "            if (i + j) % 2 == 0:\n",
        "                row.append(a)\n",
        "            else:\n",
        "                row.append(b)\n",
        "        matrix.append(row)  \n",
        "\n",
        "    return matrix\n",
        "\n",
        "def test() -> None:\n",
        "    funcResult = chess(1, 1, 100, -100)\n",
        "    trueResult = [[100]]\n",
        "    assert np.array_equal(funcResult, trueResult), f\"Test №1 Failed  Your result: \\n {str(funcResult)[1:-1]}\"\n",
        "    print(\"Test №1 Successful\")\n",
        "    \n",
        "    funcResult = chess(2, 2, 100, -100)\n",
        "    trueResult = [100, -100], [-100, 100]\n",
        "    assert np.array_equal(funcResult, trueResult), f\"Test №2 Failed, Your result: \\n {str(funcResult)[1:-1]}\"\n",
        "    print(\"Test №2 Successful\")\n",
        "\n",
        "    funcResult = chess(0, 0, 100, -100)\n",
        "    trueResult = []\n",
        "    assert np.array_equal(funcResult, trueResult), f\"Test №3 Failed, Your result: \\n {str(funcResult)[1:-1]}\"\n",
        "    print(\"Test №3 Successful\")\n",
        "\n",
        "    funcResult = chess(3, 3, 10, 10)\n",
        "    trueResult = [[10,10,10], [10,10,10], [10,10,10]]\n",
        "    assert np.array_equal(funcResult, trueResult), f\"Test №4 Failed, Your result: \\n {str(funcResult)[1:-1]}\"\n",
        "    print(\"Test №4 Successful\")\n",
        "\n",
        "test()"
      ]
    },
    {
      "cell_type": "markdown",
      "metadata": {
        "id": "-ymXLtTN0vB6"
      },
      "source": [
        "<h1>Задача 6.</h1> Напишите функцию, которая отрисовывает прямоугольник с заданными размерами (a, b) на изображении размера (m, n), цвет фона задайте в схеме RGB, как и цвет прямоугольника. Цвета также должны быть параметрами функции. Напишите аналогичную функцию но для овала с полуосями a и b. Напишите тесты для кода.\n",
        "Примечание: уравнение эллипса (границы овала) можно записать как:\n",
        "\n",
        "# $\\frac{(x-x_0)^2}{a^2}+\\frac{(y-y_0)^2}{b^2}=1$"
      ]
    },
    {
      "cell_type": "code",
      "execution_count": 870,
      "metadata": {
        "id": "sNfl1t_kfOF4"
      },
      "outputs": [
        {
          "data": {
            "image/png": "[encoded data removed]",
            "text/plain": [
              "<Figure size 640x480 with 1 Axes>"
            ]
          },
          "metadata": {},
          "output_type": "display_data"
        },
        {
          "data": {
            "image/png": "[encoded data removed]",
            "text/plain": [
              "<Figure size 640x480 with 1 Axes>"
            ]
          },
          "metadata": {},
          "output_type": "display_data"
        }
      ],
      "source": [
        "def draw_rectangle(a, b, m, n, rectangle_color, background_color):\n",
        "    image = np.ones((m, n, 3)) * background_color\n",
        "\n",
        "    xStart = (n - a) // 2\n",
        "    yStart = (m - b) // 2\n",
        "    xEnd = xStart + a\n",
        "    yEnd = yStart + b\n",
        "    \n",
        "    image[yStart:yEnd, xStart:xEnd] = rectangle_color\n",
        "    \n",
        "    plt.xticks([xStart ,xEnd])\n",
        "    plt.yticks([yStart, yEnd])\n",
        "    plt.imshow(image)\n",
        "    plt.axis('on')\n",
        "    plt.show()\n",
        "    \n",
        "def draw_ellipse(a, b, m, n, ellipse_color, background_color):\n",
        "    image = np.ones((m, n, 3)) * background_color\n",
        "    y, x = np.ogrid[:m, :n]\n",
        "    ellipse = ((x - n // 2) / a)**2 + ((y - m // 2) / b)**2 <= 1\n",
        "\n",
        "    image[ellipse] = ellipse_color\n",
        "    plt.imshow(image)\n",
        "    plt.axis('on')\n",
        "    plt.show()\n",
        "\n",
        "draw_rectangle(200, 100, 200, 350, (1, 0, 0), (1, 1, 1))\n",
        "draw_ellipse(200, 100, 400, 600, (1, 0, 0), (1, 1, 1))"
      ]
    },
    {
      "cell_type": "markdown",
      "metadata": {
        "id": "S82c38oz244H"
      },
      "source": [
        "<h1>Задача 7.</h1> Дан некий временной ряд. Для данного ряда нужно найти его: математическое ожидание, дисперсию, СКО, найти все локальные максимумы и минимумы (локальный максимум - это точка, которая больше своих соседних точек, а локальный минимум - это точка, которая меньше своих соседей), а также вычислить для данного ряда другой ряд, получаемый методом скользящего среднего с размером окна $p$.\n",
        "\n",
        "Примечание: метод скользящего среднего подразумевает нахождение среднего из подмножетсва ряда размером $p$"
      ]
    },
    {
      "cell_type": "code",
      "execution_count": 871,
      "metadata": {
        "id": "Zb9mIVge5MMt"
      },
      "outputs": [
        {
          "name": "stdout",
          "output_type": "stream",
          "text": [
            "Test №1 Successful\n",
            "Test №2 Successful\n"
          ]
        }
      ],
      "source": [
        "def foo_7(timeSeries):\n",
        "    mean = float(str(np.mean(timeSeries))[:5])\n",
        "    variance = float(str(np.var(timeSeries))[:5])\n",
        "    std = float(str(np.std(timeSeries))[:5])\n",
        "\n",
        "    localMax = []\n",
        "    localMin = []\n",
        "    for i in range(1, len(timeSeries) - 1):\n",
        "        if timeSeries[i] > timeSeries[i - 1] and timeSeries[i] > timeSeries[i + 1]:\n",
        "            localMax.append((timeSeries[i]))\n",
        "        elif timeSeries[i] < timeSeries[i - 1] and timeSeries[i] < timeSeries[i + 1]:\n",
        "            localMin.append((timeSeries[i]))\n",
        "    \n",
        "    return mean, variance, std, localMax, localMin\n",
        "\n",
        "def test() -> None:\n",
        "    funcResult = foo_7([1, 3, 8, 1, 2])\n",
        "    trueResult = (np.float64(3.0), np.float64(6.8), 2.607, [8], [1])\n",
        "    assert funcResult == trueResult, f\"Test №1 Failed  Your result: \\n {str(funcResult)}\"\n",
        "    print(\"Test №1 Successful\")\n",
        "    \n",
        "    funcResult = foo_7([1, 3, 2])\n",
        "    trueResult = (2.0, 0.666, 0.816, [3], [])\n",
        "    assert funcResult == trueResult, f\"Test №2 Failed, Your result: \\n {str(funcResult)}\"\n",
        "    print(\"Test №2 Successful\")\n",
        "\n",
        "test()"
      ]
    },
    {
      "cell_type": "markdown",
      "metadata": {
        "id": "jPkylmOX5O9n"
      },
      "source": [
        "<h1> Задача 8.</h1> Дан некоторый вектор с целочисленными метками классов, напишите функцию, которая выполняет one-hot-encoding для данного вектора\n",
        " One-hot-encoding - представление, в котором на месте метки некоторого класса стоит 1, в остальных позициях стоит 0. Например для вектора [0, 2, 3, 0] one-hot-encoding выглядит как: [[1, 0, 0, 0], [0, 0, 1, 0], [0, 0, 0, 1], [1, 0, 0, 0]]"
      ]
    },
    {
      "cell_type": "code",
      "execution_count": 872,
      "metadata": {
        "id": "Y-jlnZvw56lD"
      },
      "outputs": [
        {
          "name": "stdout",
          "output_type": "stream",
          "text": [
            "Test №1 Successful\n",
            "Test №2 Successful\n",
            "Test №3 Successful\n"
          ]
        }
      ],
      "source": [
        "def foo_8(v):\n",
        "    encoded_data = np.zeros((len(v), len(v)), dtype=int)\n",
        "\n",
        "    for index, value in enumerate(v):\n",
        "        encoded_data[index, value] = 1\n",
        "    return encoded_data.tolist()\n",
        "\n",
        "def test() -> None:\n",
        "    funcResult = foo_8([0,2,3,0])\n",
        "    trueResult = [[1, 0, 0, 0], [0, 0, 1, 0], [0, 0, 0, 1], [1, 0, 0, 0]]\n",
        "    assert np.array_equal(funcResult, trueResult), f\"Test №1 Failed  Your result: \\n {str(funcResult)[1:-1]}\"\n",
        "    print(\"Test №1 Successful\")\n",
        "\n",
        "    funcResult = foo_8([0, 1, 2])\n",
        "    trueResult = [[1, 0, 0], [0, 1, 0], [0, 0, 1]]\n",
        "    assert np.array_equal(funcResult, trueResult), f\"Test №2 Failed  Your result: \\n {str(funcResult)[1:-1]}\"\n",
        "    print(\"Test №2 Successful\")\n",
        "\n",
        "    funcResult = foo_8([3, 3, 3, 3])\n",
        "    trueResult = [[0, 0, 0, 1], [0, 0, 0, 1], [0, 0, 0, 1], [0, 0, 0, 1]]\n",
        "    assert np.array_equal(funcResult, trueResult), f\"Test №3 Failed  Your result: \\n {str(funcResult)[1:-1]}\"\n",
        "    print(\"Test №3 Successful\")\n",
        "test()"
      ]
    }
  ],
  "metadata": {
    "colab": {
      "provenance": []
    },
    "kernelspec": {
      "display_name": "Python 3",
      "name": "python3"
    },
    "language_info": {
      "codemirror_mode": {
        "name": "ipython",
        "version": 3
      },
      "file_extension": ".py",
      "mimetype": "text/x-python",
      "name": "python",
      "nbconvert_exporter": "python",
      "pygments_lexer": "ipython3",
      "version": "3.11.5"
    }
  },
  "nbformat": 4,
  "nbformat_minor": 0
}
